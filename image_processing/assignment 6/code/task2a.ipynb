{
 "cells": [
  {
   "cell_type": "code",
   "execution_count": 1,
   "id": "2d9befbe",
   "metadata": {},
   "outputs": [],
   "source": [
    "import numpy as np\n",
    "import skimage\n",
    "import utils\n",
    "import pathlib\n",
    "import matplotlib.pyplot as plt"
   ]
  },
  {
   "cell_type": "code",
   "execution_count": 2,
   "id": "6178db27",
   "metadata": {},
   "outputs": [],
   "source": [
    "def otsu_thresholding(im: np.ndarray) -> int:\n",
    "    \"\"\"\n",
    "        Otsu's thresholding algorithm that segments an image into 1 or 0 (True or False)\n",
    "        The function takes in a grayscale image and outputs a threshold value\n",
    "\n",
    "        args:\n",
    "            im: np.ndarray of shape (H, W) in the range [0, 255] (dtype=np.uint8)\n",
    "        return:\n",
    "            (int) the computed thresholding value\n",
    "    \"\"\"\n",
    "    assert im.dtype == np.uint8\n",
    "    ### START YOUR CODE HERE ### (You can change anything inside this block) \n",
    "    # Compute the normalized histogram\n",
    "    intensity_range = (im.max() - im.min()) + 1                           \n",
    "    H, W = im.shape\n",
    "    hist, bins = np.histogram(im.flatten(), bins=intensity_range)\n",
    "    norm_hist = hist/(H * W)\n",
    "\n",
    "    # Compute the cumulative sums\n",
    "    cumulative_sums = np.cumsum(norm_hist)\n",
    "\n",
    "    # Compute the cumulative means\n",
    "    cumulative_means = np.zeros(intensity_range)\n",
    "    for i in range(1, intensity_range):\n",
    "        cumulative_means[i] = cumulative_means[i - 1] + i * norm_hist[i]\n",
    "        \n",
    "    # Compute the global means\n",
    "    global_mean = 0\n",
    "    for i in range(intensity_range):\n",
    "        global_mean += i * norm_hist[i]\n",
    "\n",
    "    # Between-class variances\n",
    "    variances = ((global_mean * cumulative_sums -\n",
    "                               cumulative_means)**2 + 1e-32) / ((cumulative_sums * (1 - cumulative_sums)) + 1e-32)\n",
    "\n",
    "    # Obtain the Otsu threshold as the average of between-class variances maximum values \n",
    "    max_indices = np.argwhere(variances == max(variances))\n",
    "    threshold = max_indices.item() if len(max_indices) == 1 else sum(max_indices)/len(max_indices)\n",
    "\n",
    "    # Shift the threshold by im.min()\n",
    "    threshold += im.min()\n",
    "\n",
    "    return threshold\n",
    "    ### END YOUR CODE HERE ###"
   ]
  },
  {
   "cell_type": "code",
   "execution_count": 3,
   "id": "822e18b6",
   "metadata": {},
   "outputs": [
    {
     "name": "stdout",
     "output_type": "stream",
     "text": [
      "Reading image: images/thumbprint.png\n",
      "Found optimal threshold: 153\n",
      "Saving image to: image_processed/thumbprint-segmented.png\n",
      "Reading image: images/rice-shaded.png\n",
      "Found optimal threshold: 134\n",
      "Saving image to: image_processed/rice-shaded-segmented.png\n"
     ]
    }
   ],
   "source": [
    "if __name__ == \"__main__\":\n",
    "    # DO NOT CHANGE\n",
    "    impaths_to_segment = [\n",
    "        pathlib.Path(\"thumbprint.png\"),\n",
    "        pathlib.Path(\"rice-shaded.png\")\n",
    "    ]\n",
    "    for impath in impaths_to_segment:\n",
    "        im = utils.read_image(impath)\n",
    "        threshold = otsu_thresholding(im)\n",
    "        print(\"Found optimal threshold:\", threshold)\n",
    "\n",
    "        # Segment the image by threshold\n",
    "        segmented_image = (im >= threshold)\n",
    "        assert im.shape == segmented_image.shape, \"Expected image shape ({}) to be same as thresholded image shape ({})\".format(\n",
    "                im.shape, segmented_image.shape)\n",
    "        assert segmented_image.dtype == bool, \"Expected thresholded image dtype to be bool. Was: {}\".format(\n",
    "                segmented_image.dtype)\n",
    "\n",
    "        segmented_image = utils.to_uint8(segmented_image)\n",
    "\n",
    "        save_path = \"{}-segmented.png\".format(impath.stem)\n",
    "        utils.save_im(save_path, segmented_image)"
   ]
  }
 ],
 "metadata": {
  "kernelspec": {
   "display_name": "vcf",
   "language": "python",
   "name": "python3"
  },
  "language_info": {
   "codemirror_mode": {
    "name": "ipython",
    "version": 3
   },
   "file_extension": ".py",
   "mimetype": "text/x-python",
   "name": "python",
   "nbconvert_exporter": "python",
   "pygments_lexer": "ipython3",
   "version": "3.11.5"
  }
 },
 "nbformat": 4,
 "nbformat_minor": 5
}
