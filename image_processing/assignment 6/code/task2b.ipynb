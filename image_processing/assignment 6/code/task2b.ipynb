{
 "cells": [
  {
   "cell_type": "code",
   "execution_count": 1,
   "id": "0b6d523e",
   "metadata": {},
   "outputs": [],
   "source": [
    "import utils\n",
    "import numpy as np"
   ]
  },
  {
   "cell_type": "code",
   "execution_count": 2,
   "id": "b7024a2a",
   "metadata": {},
   "outputs": [],
   "source": [
    "def region_growing(im: np.ndarray, seed_points: list, T: int) -> np.ndarray:\n",
    "    \"\"\"\n",
    "        A region growing algorithm that segments an image into 1 or 0 (True or False).\n",
    "        Finds candidate pixels with a Moore-neighborhood (8-connectedness). \n",
    "        Uses pixel intensity thresholding with the threshold T as the homogeneity criteria.\n",
    "        The function takes in a grayscale image and outputs a boolean image\n",
    "\n",
    "        args:\n",
    "            im: np.ndarray of shape (H, W) in the range [0, 255] (dtype=np.uint8)\n",
    "            seed_points: list of list containing seed points (row, col). Ex:\n",
    "                [[row1, col1], [row2, col2], ...]\n",
    "            T: integer value defining the threshold to used for the homogeneity criteria.\n",
    "        return:\n",
    "            (np.ndarray) of shape (H, W). dtype=bool\n",
    "    \"\"\"\n",
    "    ### START YOUR CODE HERE ### (You can change anything inside this block)\n",
    "    # Create a mask for the segmented region\n",
    "    segmented = np.zeros_like(im, dtype=bool)\n",
    "    \n",
    "    # Convert image to float for calculations\n",
    "    im = im.astype(float)\n",
    "    \n",
    "    # Define a function to visit neighboring pixels & include pixels that should be part of the region\n",
    "    def find_candidate_pixels(seed_point_value, row, col):\n",
    "        # Iterate over 8-connectedness neighbors\n",
    "        for i in range(-1, 2):\n",
    "            for j in range(-1, 2):\n",
    "                # Skip the center pixel\n",
    "                if i == 0 and j == 0:\n",
    "                    continue\n",
    "                \n",
    "                # Get current neighbor pixel coordinates\n",
    "                neighbor_row, neighbor_col = row + i, col + j\n",
    "                \n",
    "                # Check if neighbor pixel coordinates are within the image bounds, else skip\n",
    "                if 0 <= neighbor_row < im.shape[0] and 0 <= neighbor_col < im.shape[1]:\n",
    "                    # Skip already visited pixels\n",
    "                    if not segmented[neighbor_row, neighbor_col]:\n",
    "                        # Calculate if this pixel should be included in the region\n",
    "                        if abs(im[neighbor_row, neighbor_col] - seed_point_value) < T:\n",
    "                            segmented[neighbor_row, neighbor_col] = True\n",
    "                            # Recursively visit the neighboring pixels\n",
    "                            find_candidate_pixels(seed_point_value, neighbor_row, neighbor_col)\n",
    "    \n",
    "    # Iterate through seed points and update the mask \"segmented\" for the segmented region\n",
    "    for row, col in seed_points:\n",
    "        segmented[row, col] = True\n",
    "        find_candidate_pixels(im[row, col], row, col)\n",
    "\n",
    "    return segmented\n",
    "    ### END YOUR CODE HERE ###"
   ]
  },
  {
   "cell_type": "code",
   "execution_count": 3,
   "id": "ce93bac9",
   "metadata": {},
   "outputs": [
    {
     "name": "stdout",
     "output_type": "stream",
     "text": [
      "Reading image: images/defective-weld.png\n",
      "Saving image to: image_processed/defective-weld-segmented.png\n"
     ]
    },
    {
     "name": "stderr",
     "output_type": "stream",
     "text": [
      "/Users/tobiojekanmi/Documents/MIR/NTNU/Visual Computing Fundamentals/Assignments/Image Processing/Assignment 3/TDT4195-StarterCode-2023/assignment 3/utils.py:55: UserWarning: /Users/tobiojekanmi/Documents/MIR/NTNU/Visual Computing Fundamentals/Assignments/Image Processing/Assignment 3/TDT4195-StarterCode-2023/assignment 3/image_processed/defective-weld-segmented.png is a low contrast image\n",
      "  skimage.io.imsave(impath, im)\n"
     ]
    }
   ],
   "source": [
    "if __name__ == \"__main__\":\n",
    "    # DO NOT CHANGE\n",
    "    im = utils.read_image(\"defective-weld.png\")\n",
    "\n",
    "    seed_points = [ # (row, column)\n",
    "        [254, 138], # Seed point 1\n",
    "        [253, 296], # Seed point 2\n",
    "        [233, 436], # Seed point 3\n",
    "        [232, 417], # Seed point 4\n",
    "    ]\n",
    "    intensity_threshold = 50\n",
    "    segmented_image = region_growing(im, seed_points, intensity_threshold)\n",
    "\n",
    "    assert im.shape == segmented_image.shape, \"Expected image shape ({}) to be same as thresholded image shape ({})\".format(\n",
    "        im.shape, segmented_image.shape)\n",
    "    assert segmented_image.dtype == bool, \"Expected thresholded image dtype to be bool. Was: {}\".format(\n",
    "            segmented_image.dtype)\n",
    "\n",
    "    segmented_image = utils.to_uint8(segmented_image)\n",
    "    utils.save_im(\"defective-weld-segmented.png\", segmented_image)"
   ]
  }
 ],
 "metadata": {
  "kernelspec": {
   "display_name": "vcf",
   "language": "python",
   "name": "python3"
  },
  "language_info": {
   "codemirror_mode": {
    "name": "ipython",
    "version": 3
   },
   "file_extension": ".py",
   "mimetype": "text/x-python",
   "name": "python",
   "nbconvert_exporter": "python",
   "pygments_lexer": "ipython3",
   "version": "3.11.5"
  }
 },
 "nbformat": 4,
 "nbformat_minor": 5
}
